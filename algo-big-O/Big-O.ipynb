{
 "cells": [
  {
   "cell_type": "markdown",
   "id": "38139feb-e070-4707-9406-d3872b7d9b36",
   "metadata": {},
   "source": [
    "# This jupyter notebook is all about algorithms and Big O notation.\n",
    "### Here we talk about algorithms and Big O notation from the very basic, so if you're somewhat familiar with the topic, this might not be the best place for you, on the other hand if you've had some previous experience and would like to brush up your knowledge for tests or interviews, most welcome!"
   ]
  },
  {
   "cell_type": "code",
   "execution_count": null,
   "id": "2bdeec95-8d8c-401c-a348-f736cf24d376",
   "metadata": {},
   "outputs": [],
   "source": []
  }
 ],
 "metadata": {
  "kernelspec": {
   "display_name": "Python 3 (ipykernel)",
   "language": "python",
   "name": "python3"
  },
  "language_info": {
   "codemirror_mode": {
    "name": "ipython",
    "version": 3
   },
   "file_extension": ".py",
   "mimetype": "text/x-python",
   "name": "python",
   "nbconvert_exporter": "python",
   "pygments_lexer": "ipython3",
   "version": "3.9.5"
  }
 },
 "nbformat": 4,
 "nbformat_minor": 5
}
