{
 "cells": [
  {
   "cell_type": "markdown",
   "id": "38139feb-e070-4707-9406-d3872b7d9b36",
   "metadata": {},
   "source": [
    "# This jupyter notebook is all about algorithms and Big O notation.\n",
    "### Here we talk about algorithms and Big O notation from the very basic, so if you're somewhat familiar with the topic, this might not be the best place for you, on the other hand if you've had some previous experience and would like to brush up your knowledge for tests or interviews, most welcome!"
   ]
  },
  {
   "cell_type": "markdown",
   "id": "f3788ff5-eaeb-4a4f-8193-ce8963185089",
   "metadata": {},
   "source": [
    "### See these two codes to sum the numbers upto n terms."
   ]
  },
  {
   "cell_type": "code",
   "execution_count": 1,
   "id": "0c8e96ec-de13-47b1-820a-231fc9c49b30",
   "metadata": {},
   "outputs": [
    {
     "data": {
      "text/plain": [
       "55"
      ]
     },
     "execution_count": 1,
     "metadata": {},
     "output_type": "execute_result"
    }
   ],
   "source": [
    "#Code 1.\n",
    "def sum1(n):\n",
    "    final_sum = 0\n",
    "    for x in range(n+1):\n",
    "        final_sum += x\n",
    "    return final_sum\n",
    "\n",
    "sum1(10)"
   ]
  },
  {
   "cell_type": "code",
   "execution_count": 2,
   "id": "747f1747-00c5-4022-a77b-afc061310e3b",
   "metadata": {},
   "outputs": [
    {
     "data": {
      "text/plain": [
       "55.0"
      ]
     },
     "execution_count": 2,
     "metadata": {},
     "output_type": "execute_result"
    }
   ],
   "source": [
    "#Code 2\n",
    "def sum2(n):\n",
    "    return (n*(n+1))/2\n",
    "\n",
    "sum2(10)"
   ]
  },
  {
   "cell_type": "markdown",
   "id": "81023385-15ed-412b-898f-8c19c48fa2ae",
   "metadata": {},
   "source": [
    "### We'll now see how much timedoes each of the functions take to run and process data.\n",
    "### Rules of the game:\n",
    "* The data size must be same.\n",
    "* The computer muist be same where the data is being processed."
   ]
  },
  {
   "cell_type": "code",
   "execution_count": 3,
   "id": "2953f87d-1d58-49b4-b776-4dad223fc808",
   "metadata": {},
   "outputs": [
    {
     "name": "stdout",
     "output_type": "stream",
     "text": [
      "5.69 µs ± 19.2 ns per loop (mean ± std. dev. of 7 runs, 100000 loops each)\n",
      "187 ns ± 20.2 ns per loop (mean ± std. dev. of 7 runs, 10000000 loops each)\n"
     ]
    }
   ],
   "source": [
    "# We will use the %timeit function built in in the jupyter notebook.\n",
    "%timeit sum1(100)\n",
    "%timeit sum2(100)"
   ]
  },
  {
   "cell_type": "markdown",
   "id": "7700e090-3bbb-410f-a59d-eaa8446b7c69",
   "metadata": {},
   "source": [
    "### As we can clearly see that the time difference in here is exponential. While the loop iterated for each numbers, the second algorithm follows mathematical rule to do the same.\n",
    "\n",
    "sum1 takes micro seconds, while sum2 takes nano seconds. 10^3 times faster"
   ]
  },
  {
   "cell_type": "code",
   "execution_count": null,
   "id": "239bad70-c8a7-4a4a-a3eb-bd7a9c7f99bc",
   "metadata": {},
   "outputs": [],
   "source": []
  }
 ],
 "metadata": {
  "kernelspec": {
   "display_name": "Python 3 (ipykernel)",
   "language": "python",
   "name": "python3"
  },
  "language_info": {
   "codemirror_mode": {
    "name": "ipython",
    "version": 3
   },
   "file_extension": ".py",
   "mimetype": "text/x-python",
   "name": "python",
   "nbconvert_exporter": "python",
   "pygments_lexer": "ipython3",
   "version": "3.9.5"
  }
 },
 "nbformat": 4,
 "nbformat_minor": 5
}
